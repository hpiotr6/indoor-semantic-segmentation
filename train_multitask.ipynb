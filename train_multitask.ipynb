{
 "cells": [
  {
   "cell_type": "code",
   "execution_count": 1,
   "metadata": {},
   "outputs": [],
   "source": [
    "%load_ext autoreload"
   ]
  },
  {
   "cell_type": "code",
   "execution_count": 1,
   "metadata": {},
   "outputs": [],
   "source": [
    "\n",
    "from pathlib import Path\n",
    "from pytorch_lightning import callbacks\n",
    "import pytorch_lightning as pl\n",
    "import torch\n",
    "\n",
    "from src import multitask_datamod\n",
    "from src.multitask_lit import LitMultitask, LitClassification\n",
    "from torch import nn"
   ]
  },
  {
   "cell_type": "code",
   "execution_count": 2,
   "metadata": {},
   "outputs": [
    {
     "name": "stderr",
     "output_type": "stream",
     "text": [
      "Global seed set to 42\n"
     ]
    }
   ],
   "source": [
    "pl.seed_everything(42, workers=True)\n",
    "\n",
    "PROJECT_DIR = \"\"\n",
    "dataloader_params = {\"batch_size\": 8, \"num_workers\": 6, \"pin_memory\": False}\n",
    "data_module = multitask_datamod.MultitaskDataModule(PROJECT_DIR, dataloader_params)\n",
    "\n",
    "seg_weights = 1 / torch.Tensor(\n",
    "    [\n",
    "        11611728,\n",
    "        8578042,\n",
    "        1308322,\n",
    "        3535427,\n",
    "        8258474,\n",
    "        23949931,\n",
    "        35664840,\n",
    "        31453241,\n",
    "        4864604,\n",
    "        5747842,\n",
    "        7347520,\n",
    "        1349733,\n",
    "        57555778,\n",
    "    ]\n",
    ")\n",
    "\n",
    "scene_weights = 1 / torch.Tensor([66.0, 192.0, 114.0, 63.0, 92.0, 149.0, 119.0])\n",
    "\n"
   ]
  },
  {
   "cell_type": "code",
   "execution_count": 4,
   "metadata": {},
   "outputs": [
    {
     "ename": "SyntaxError",
     "evalue": "positional argument follows keyword argument (2362918094.py, line 3)",
     "output_type": "error",
     "traceback": [
      "\u001b[0;36m  Cell \u001b[0;32mIn[4], line 3\u001b[0;36m\u001b[0m\n\u001b[0;31m    learning_rate=1e-7, scene_weights)\u001b[0m\n\u001b[0m                                     ^\u001b[0m\n\u001b[0;31mSyntaxError\u001b[0m\u001b[0;31m:\u001b[0m positional argument follows keyword argument\n"
     ]
    }
   ],
   "source": [
    "trainer = pl.Trainer(accelerator=\"gpu\", max_epochs=50)\n",
    "model = LitClassification(learning_rate=1e-7, weights=scene_weights)\n",
    "# y=model(torch.rand(3,3, 480, 640))\n"
   ]
  },
  {
   "cell_type": "code",
   "execution_count": 11,
   "metadata": {},
   "outputs": [
    {
     "data": {
      "text/plain": [
       "['model.encoder.conv1.weight',\n",
       " 'model.encoder.bn1.weight',\n",
       " 'model.encoder.bn1.bias',\n",
       " 'model.encoder.layer1.0.conv1.weight',\n",
       " 'model.encoder.layer1.0.bn1.weight',\n",
       " 'model.encoder.layer1.0.bn1.bias',\n",
       " 'model.encoder.layer1.0.conv2.weight',\n",
       " 'model.encoder.layer1.0.bn2.weight',\n",
       " 'model.encoder.layer1.0.bn2.bias',\n",
       " 'model.encoder.layer1.1.conv1.weight',\n",
       " 'model.encoder.layer1.1.bn1.weight',\n",
       " 'model.encoder.layer1.1.bn1.bias',\n",
       " 'model.encoder.layer1.1.conv2.weight',\n",
       " 'model.encoder.layer1.1.bn2.weight',\n",
       " 'model.encoder.layer1.1.bn2.bias',\n",
       " 'model.encoder.layer1.2.conv1.weight',\n",
       " 'model.encoder.layer1.2.bn1.weight',\n",
       " 'model.encoder.layer1.2.bn1.bias',\n",
       " 'model.encoder.layer1.2.conv2.weight',\n",
       " 'model.encoder.layer1.2.bn2.weight',\n",
       " 'model.encoder.layer1.2.bn2.bias',\n",
       " 'model.encoder.layer2.0.conv1.weight',\n",
       " 'model.encoder.layer2.0.bn1.weight',\n",
       " 'model.encoder.layer2.0.bn1.bias',\n",
       " 'model.encoder.layer2.0.conv2.weight',\n",
       " 'model.encoder.layer2.0.bn2.weight',\n",
       " 'model.encoder.layer2.0.bn2.bias',\n",
       " 'model.encoder.layer2.0.downsample.0.weight',\n",
       " 'model.encoder.layer2.0.downsample.1.weight',\n",
       " 'model.encoder.layer2.0.downsample.1.bias',\n",
       " 'model.encoder.layer2.1.conv1.weight',\n",
       " 'model.encoder.layer2.1.bn1.weight',\n",
       " 'model.encoder.layer2.1.bn1.bias',\n",
       " 'model.encoder.layer2.1.conv2.weight',\n",
       " 'model.encoder.layer2.1.bn2.weight',\n",
       " 'model.encoder.layer2.1.bn2.bias',\n",
       " 'model.encoder.layer2.2.conv1.weight',\n",
       " 'model.encoder.layer2.2.bn1.weight',\n",
       " 'model.encoder.layer2.2.bn1.bias',\n",
       " 'model.encoder.layer2.2.conv2.weight',\n",
       " 'model.encoder.layer2.2.bn2.weight',\n",
       " 'model.encoder.layer2.2.bn2.bias',\n",
       " 'model.encoder.layer2.3.conv1.weight',\n",
       " 'model.encoder.layer2.3.bn1.weight',\n",
       " 'model.encoder.layer2.3.bn1.bias',\n",
       " 'model.encoder.layer2.3.conv2.weight',\n",
       " 'model.encoder.layer2.3.bn2.weight',\n",
       " 'model.encoder.layer2.3.bn2.bias',\n",
       " 'model.encoder.layer3.0.conv1.weight',\n",
       " 'model.encoder.layer3.0.bn1.weight',\n",
       " 'model.encoder.layer3.0.bn1.bias',\n",
       " 'model.encoder.layer3.0.conv2.weight',\n",
       " 'model.encoder.layer3.0.bn2.weight',\n",
       " 'model.encoder.layer3.0.bn2.bias',\n",
       " 'model.encoder.layer3.0.downsample.0.weight',\n",
       " 'model.encoder.layer3.0.downsample.1.weight',\n",
       " 'model.encoder.layer3.0.downsample.1.bias',\n",
       " 'model.encoder.layer3.1.conv1.weight',\n",
       " 'model.encoder.layer3.1.bn1.weight',\n",
       " 'model.encoder.layer3.1.bn1.bias',\n",
       " 'model.encoder.layer3.1.conv2.weight',\n",
       " 'model.encoder.layer3.1.bn2.weight',\n",
       " 'model.encoder.layer3.1.bn2.bias',\n",
       " 'model.encoder.layer3.2.conv1.weight',\n",
       " 'model.encoder.layer3.2.bn1.weight',\n",
       " 'model.encoder.layer3.2.bn1.bias',\n",
       " 'model.encoder.layer3.2.conv2.weight',\n",
       " 'model.encoder.layer3.2.bn2.weight',\n",
       " 'model.encoder.layer3.2.bn2.bias',\n",
       " 'model.encoder.layer3.3.conv1.weight',\n",
       " 'model.encoder.layer3.3.bn1.weight',\n",
       " 'model.encoder.layer3.3.bn1.bias',\n",
       " 'model.encoder.layer3.3.conv2.weight',\n",
       " 'model.encoder.layer3.3.bn2.weight',\n",
       " 'model.encoder.layer3.3.bn2.bias',\n",
       " 'model.encoder.layer3.4.conv1.weight',\n",
       " 'model.encoder.layer3.4.bn1.weight',\n",
       " 'model.encoder.layer3.4.bn1.bias',\n",
       " 'model.encoder.layer3.4.conv2.weight',\n",
       " 'model.encoder.layer3.4.bn2.weight',\n",
       " 'model.encoder.layer3.4.bn2.bias',\n",
       " 'model.encoder.layer3.5.conv1.weight',\n",
       " 'model.encoder.layer3.5.bn1.weight',\n",
       " 'model.encoder.layer3.5.bn1.bias',\n",
       " 'model.encoder.layer3.5.conv2.weight',\n",
       " 'model.encoder.layer3.5.bn2.weight',\n",
       " 'model.encoder.layer3.5.bn2.bias',\n",
       " 'model.encoder.layer4.0.conv1.weight',\n",
       " 'model.encoder.layer4.0.bn1.weight',\n",
       " 'model.encoder.layer4.0.bn1.bias',\n",
       " 'model.encoder.layer4.0.conv2.weight',\n",
       " 'model.encoder.layer4.0.bn2.weight',\n",
       " 'model.encoder.layer4.0.bn2.bias',\n",
       " 'model.encoder.layer4.0.downsample.0.weight',\n",
       " 'model.encoder.layer4.0.downsample.1.weight',\n",
       " 'model.encoder.layer4.0.downsample.1.bias',\n",
       " 'model.encoder.layer4.1.conv1.weight',\n",
       " 'model.encoder.layer4.1.bn1.weight',\n",
       " 'model.encoder.layer4.1.bn1.bias',\n",
       " 'model.encoder.layer4.1.conv2.weight',\n",
       " 'model.encoder.layer4.1.bn2.weight',\n",
       " 'model.encoder.layer4.1.bn2.bias',\n",
       " 'model.encoder.layer4.2.conv1.weight',\n",
       " 'model.encoder.layer4.2.bn1.weight',\n",
       " 'model.encoder.layer4.2.bn1.bias',\n",
       " 'model.encoder.layer4.2.conv2.weight',\n",
       " 'model.encoder.layer4.2.bn2.weight',\n",
       " 'model.encoder.layer4.2.bn2.bias',\n",
       " 'model.classifier.2.weight',\n",
       " 'model.classifier.2.bias',\n",
       " 'model.classifier.4.weight',\n",
       " 'model.classifier.6.weight',\n",
       " 'model.classifier.6.bias',\n",
       " 'model.classifier.8.weight']"
      ]
     },
     "execution_count": 11,
     "metadata": {},
     "output_type": "execute_result"
    }
   ],
   "source": [
    "import re\n",
    "\n",
    "trainable_params =[p for name, p in model.named_parameters() if not bool(re.search('decoder|segmentation',name))] \n",
    "# for name, p in model.named_parameters():\n",
    "#     if \"classifier\" not in name:\n",
    "#         print(name)\n",
    "# model.requires_grad_(False)\n",
    "# for p in trainable_params:\n",
    "#     p.requires_grad = True\n",
    "\n",
    "# trainable_params\n",
    "# list(model.parameters())\n",
    "trainable_params"
   ]
  },
  {
   "cell_type": "code",
   "execution_count": 6,
   "metadata": {},
   "outputs": [
    {
     "ename": "TypeError",
     "evalue": "any() takes exactly one argument (0 given)",
     "output_type": "error",
     "traceback": [
      "\u001b[0;31m---------------------------------------------------------------------------\u001b[0m",
      "\u001b[0;31mTypeError\u001b[0m                                 Traceback (most recent call last)",
      "Cell \u001b[0;32mIn[6], line 1\u001b[0m\n\u001b[0;32m----> 1\u001b[0m \u001b[39many\u001b[39;49m()\n",
      "\u001b[0;31mTypeError\u001b[0m: any() takes exactly one argument (0 given)"
     ]
    }
   ],
   "source": [
    "any()"
   ]
  },
  {
   "cell_type": "code",
   "execution_count": 6,
   "metadata": {},
   "outputs": [
    {
     "ename": "RuntimeError",
     "evalue": "Found no NVIDIA driver on your system. Please check that you have an NVIDIA GPU and installed a driver from http://www.nvidia.com/Download/index.aspx",
     "output_type": "error",
     "traceback": [
      "\u001b[0;31m---------------------------------------------------------------------------\u001b[0m",
      "\u001b[0;31mRuntimeError\u001b[0m                              Traceback (most recent call last)",
      "Cell \u001b[0;32mIn[6], line 1\u001b[0m\n\u001b[0;32m----> 1\u001b[0m trainer\u001b[39m.\u001b[39;49mfit(\n\u001b[1;32m      2\u001b[0m     model\u001b[39m=\u001b[39;49mmodel,\n\u001b[1;32m      3\u001b[0m     datamodule\u001b[39m=\u001b[39;49mdata_module\n\u001b[1;32m      4\u001b[0m     \u001b[39m# ckpt_path=\"/home/piotr/SensorsArticle2022/logs/23.11-max_real/version_0/checkpoints/epoch=19-step=300.ckpt\",\u001b[39;49;00m\n\u001b[1;32m      5\u001b[0m )\n",
      "File \u001b[0;32m~/miniconda3/envs/sensors/lib/python3.10/site-packages/pytorch_lightning/trainer/trainer.py:696\u001b[0m, in \u001b[0;36mTrainer.fit\u001b[0;34m(self, model, train_dataloaders, val_dataloaders, datamodule, ckpt_path)\u001b[0m\n\u001b[1;32m    677\u001b[0m \u001b[39mr\u001b[39m\u001b[39m\"\"\"\u001b[39;00m\n\u001b[1;32m    678\u001b[0m \u001b[39mRuns the full optimization routine.\u001b[39;00m\n\u001b[1;32m    679\u001b[0m \n\u001b[0;32m   (...)\u001b[0m\n\u001b[1;32m    693\u001b[0m \u001b[39m    datamodule: An instance of :class:`~pytorch_lightning.core.datamodule.LightningDataModule`.\u001b[39;00m\n\u001b[1;32m    694\u001b[0m \u001b[39m\"\"\"\u001b[39;00m\n\u001b[1;32m    695\u001b[0m \u001b[39mself\u001b[39m\u001b[39m.\u001b[39mstrategy\u001b[39m.\u001b[39mmodel \u001b[39m=\u001b[39m model\n\u001b[0;32m--> 696\u001b[0m \u001b[39mself\u001b[39;49m\u001b[39m.\u001b[39;49m_call_and_handle_interrupt(\n\u001b[1;32m    697\u001b[0m     \u001b[39mself\u001b[39;49m\u001b[39m.\u001b[39;49m_fit_impl, model, train_dataloaders, val_dataloaders, datamodule, ckpt_path\n\u001b[1;32m    698\u001b[0m )\n",
      "File \u001b[0;32m~/miniconda3/envs/sensors/lib/python3.10/site-packages/pytorch_lightning/trainer/trainer.py:650\u001b[0m, in \u001b[0;36mTrainer._call_and_handle_interrupt\u001b[0;34m(self, trainer_fn, *args, **kwargs)\u001b[0m\n\u001b[1;32m    648\u001b[0m         \u001b[39mreturn\u001b[39;00m \u001b[39mself\u001b[39m\u001b[39m.\u001b[39mstrategy\u001b[39m.\u001b[39mlauncher\u001b[39m.\u001b[39mlaunch(trainer_fn, \u001b[39m*\u001b[39margs, trainer\u001b[39m=\u001b[39m\u001b[39mself\u001b[39m, \u001b[39m*\u001b[39m\u001b[39m*\u001b[39mkwargs)\n\u001b[1;32m    649\u001b[0m     \u001b[39melse\u001b[39;00m:\n\u001b[0;32m--> 650\u001b[0m         \u001b[39mreturn\u001b[39;00m trainer_fn(\u001b[39m*\u001b[39;49margs, \u001b[39m*\u001b[39;49m\u001b[39m*\u001b[39;49mkwargs)\n\u001b[1;32m    651\u001b[0m \u001b[39m# TODO(awaelchli): Unify both exceptions below, where `KeyboardError` doesn't re-raise\u001b[39;00m\n\u001b[1;32m    652\u001b[0m \u001b[39mexcept\u001b[39;00m \u001b[39mKeyboardInterrupt\u001b[39;00m \u001b[39mas\u001b[39;00m exception:\n",
      "File \u001b[0;32m~/miniconda3/envs/sensors/lib/python3.10/site-packages/pytorch_lightning/trainer/trainer.py:735\u001b[0m, in \u001b[0;36mTrainer._fit_impl\u001b[0;34m(self, model, train_dataloaders, val_dataloaders, datamodule, ckpt_path)\u001b[0m\n\u001b[1;32m    731\u001b[0m ckpt_path \u001b[39m=\u001b[39m ckpt_path \u001b[39mor\u001b[39;00m \u001b[39mself\u001b[39m\u001b[39m.\u001b[39mresume_from_checkpoint\n\u001b[1;32m    732\u001b[0m \u001b[39mself\u001b[39m\u001b[39m.\u001b[39m_ckpt_path \u001b[39m=\u001b[39m \u001b[39mself\u001b[39m\u001b[39m.\u001b[39m__set_ckpt_path(\n\u001b[1;32m    733\u001b[0m     ckpt_path, model_provided\u001b[39m=\u001b[39m\u001b[39mTrue\u001b[39;00m, model_connected\u001b[39m=\u001b[39m\u001b[39mself\u001b[39m\u001b[39m.\u001b[39mlightning_module \u001b[39mis\u001b[39;00m \u001b[39mnot\u001b[39;00m \u001b[39mNone\u001b[39;00m\n\u001b[1;32m    734\u001b[0m )\n\u001b[0;32m--> 735\u001b[0m results \u001b[39m=\u001b[39m \u001b[39mself\u001b[39;49m\u001b[39m.\u001b[39;49m_run(model, ckpt_path\u001b[39m=\u001b[39;49m\u001b[39mself\u001b[39;49m\u001b[39m.\u001b[39;49mckpt_path)\n\u001b[1;32m    737\u001b[0m \u001b[39massert\u001b[39;00m \u001b[39mself\u001b[39m\u001b[39m.\u001b[39mstate\u001b[39m.\u001b[39mstopped\n\u001b[1;32m    738\u001b[0m \u001b[39mself\u001b[39m\u001b[39m.\u001b[39mtraining \u001b[39m=\u001b[39m \u001b[39mFalse\u001b[39;00m\n",
      "File \u001b[0;32m~/miniconda3/envs/sensors/lib/python3.10/site-packages/pytorch_lightning/trainer/trainer.py:1102\u001b[0m, in \u001b[0;36mTrainer._run\u001b[0;34m(self, model, ckpt_path)\u001b[0m\n\u001b[1;32m   1100\u001b[0m \u001b[39mself\u001b[39m\u001b[39m.\u001b[39m_call_callback_hooks(\u001b[39m\"\u001b[39m\u001b[39mon_before_accelerator_backend_setup\u001b[39m\u001b[39m\"\u001b[39m)\n\u001b[1;32m   1101\u001b[0m log\u001b[39m.\u001b[39mdetail(\u001b[39mf\u001b[39m\u001b[39m\"\u001b[39m\u001b[39m{\u001b[39;00m\u001b[39mself\u001b[39m\u001b[39m.\u001b[39m\u001b[39m__class__\u001b[39m\u001b[39m.\u001b[39m\u001b[39m__name__\u001b[39m\u001b[39m}\u001b[39;00m\u001b[39m: setting up strategy environment\u001b[39m\u001b[39m\"\u001b[39m)\n\u001b[0;32m-> 1102\u001b[0m \u001b[39mself\u001b[39;49m\u001b[39m.\u001b[39;49mstrategy\u001b[39m.\u001b[39;49msetup_environment()\n\u001b[1;32m   1103\u001b[0m \u001b[39mself\u001b[39m\u001b[39m.\u001b[39m__setup_profiler()\n\u001b[1;32m   1105\u001b[0m \u001b[39mself\u001b[39m\u001b[39m.\u001b[39m_call_setup_hook()  \u001b[39m# allow user to setup lightning_module in accelerator environment\u001b[39;00m\n",
      "File \u001b[0;32m~/miniconda3/envs/sensors/lib/python3.10/site-packages/pytorch_lightning/strategies/strategy.py:130\u001b[0m, in \u001b[0;36mStrategy.setup_environment\u001b[0;34m(self)\u001b[0m\n\u001b[1;32m    124\u001b[0m \u001b[39m\"\"\"Setup any processes or distributed connections.\u001b[39;00m\n\u001b[1;32m    125\u001b[0m \n\u001b[1;32m    126\u001b[0m \u001b[39mThis is called before the LightningModule/DataModule setup hook which allows the user to access the accelerator\u001b[39;00m\n\u001b[1;32m    127\u001b[0m \u001b[39menvironment before setup is complete.\u001b[39;00m\n\u001b[1;32m    128\u001b[0m \u001b[39m\"\"\"\u001b[39;00m\n\u001b[1;32m    129\u001b[0m \u001b[39massert\u001b[39;00m \u001b[39mself\u001b[39m\u001b[39m.\u001b[39maccelerator \u001b[39mis\u001b[39;00m \u001b[39mnot\u001b[39;00m \u001b[39mNone\u001b[39;00m\n\u001b[0;32m--> 130\u001b[0m \u001b[39mself\u001b[39;49m\u001b[39m.\u001b[39;49maccelerator\u001b[39m.\u001b[39;49msetup_environment(\u001b[39mself\u001b[39;49m\u001b[39m.\u001b[39;49mroot_device)\n",
      "File \u001b[0;32m~/miniconda3/envs/sensors/lib/python3.10/site-packages/pytorch_lightning/accelerators/cuda.py:43\u001b[0m, in \u001b[0;36mCUDAAccelerator.setup_environment\u001b[0;34m(self, root_device)\u001b[0m\n\u001b[1;32m     41\u001b[0m \u001b[39mif\u001b[39;00m root_device\u001b[39m.\u001b[39mtype \u001b[39m!=\u001b[39m \u001b[39m\"\u001b[39m\u001b[39mcuda\u001b[39m\u001b[39m\"\u001b[39m:\n\u001b[1;32m     42\u001b[0m     \u001b[39mraise\u001b[39;00m MisconfigurationException(\u001b[39mf\u001b[39m\u001b[39m\"\u001b[39m\u001b[39mDevice should be GPU, got \u001b[39m\u001b[39m{\u001b[39;00mroot_device\u001b[39m}\u001b[39;00m\u001b[39m instead\u001b[39m\u001b[39m\"\u001b[39m)\n\u001b[0;32m---> 43\u001b[0m torch\u001b[39m.\u001b[39;49mcuda\u001b[39m.\u001b[39;49mset_device(root_device)\n",
      "File \u001b[0;32m~/miniconda3/envs/sensors/lib/python3.10/site-packages/torch/cuda/__init__.py:326\u001b[0m, in \u001b[0;36mset_device\u001b[0;34m(device)\u001b[0m\n\u001b[1;32m    324\u001b[0m device \u001b[39m=\u001b[39m _get_device_index(device)\n\u001b[1;32m    325\u001b[0m \u001b[39mif\u001b[39;00m device \u001b[39m>\u001b[39m\u001b[39m=\u001b[39m \u001b[39m0\u001b[39m:\n\u001b[0;32m--> 326\u001b[0m     torch\u001b[39m.\u001b[39;49m_C\u001b[39m.\u001b[39;49m_cuda_setDevice(device)\n",
      "File \u001b[0;32m~/miniconda3/envs/sensors/lib/python3.10/site-packages/torch/cuda/__init__.py:229\u001b[0m, in \u001b[0;36m_lazy_init\u001b[0;34m()\u001b[0m\n\u001b[1;32m    227\u001b[0m \u001b[39mif\u001b[39;00m \u001b[39m'\u001b[39m\u001b[39mCUDA_MODULE_LOADING\u001b[39m\u001b[39m'\u001b[39m \u001b[39mnot\u001b[39;00m \u001b[39min\u001b[39;00m os\u001b[39m.\u001b[39menviron:\n\u001b[1;32m    228\u001b[0m     os\u001b[39m.\u001b[39menviron[\u001b[39m'\u001b[39m\u001b[39mCUDA_MODULE_LOADING\u001b[39m\u001b[39m'\u001b[39m] \u001b[39m=\u001b[39m \u001b[39m'\u001b[39m\u001b[39mLAZY\u001b[39m\u001b[39m'\u001b[39m\n\u001b[0;32m--> 229\u001b[0m torch\u001b[39m.\u001b[39;49m_C\u001b[39m.\u001b[39;49m_cuda_init()\n\u001b[1;32m    230\u001b[0m \u001b[39m# Some of the queued calls may reentrantly call _lazy_init();\u001b[39;00m\n\u001b[1;32m    231\u001b[0m \u001b[39m# we need to just return without initializing in that case.\u001b[39;00m\n\u001b[1;32m    232\u001b[0m \u001b[39m# However, we must not let any *other* threads in!\u001b[39;00m\n\u001b[1;32m    233\u001b[0m _tls\u001b[39m.\u001b[39mis_initializing \u001b[39m=\u001b[39m \u001b[39mTrue\u001b[39;00m\n",
      "\u001b[0;31mRuntimeError\u001b[0m: Found no NVIDIA driver on your system. Please check that you have an NVIDIA GPU and installed a driver from http://www.nvidia.com/Download/index.aspx"
     ]
    }
   ],
   "source": [
    "trainer.fit(\n",
    "    model=model,\n",
    "    datamodule=data_module\n",
    "    # ckpt_path=\"/home/piotr/SensorsArticle2022/logs/23.11-max_real/version_0/checkpoints/epoch=19-step=300.ckpt\",\n",
    ")"
   ]
  },
  {
   "cell_type": "code",
   "execution_count": 5,
   "metadata": {},
   "outputs": [
    {
     "name": "stderr",
     "output_type": "stream",
     "text": [
      "LOCAL_RANK: 0 - CUDA_VISIBLE_DEVICES: [0]\n"
     ]
    },
    {
     "data": {
      "application/vnd.jupyter.widget-view+json": {
       "model_id": "6cc964f7bf1840e8addc08a7fe6de2b5",
       "version_major": 2,
       "version_minor": 0
      },
      "text/plain": [
       "Finding best initial lr:   0%|          | 0/100 [00:00<?, ?it/s]"
      ]
     },
     "metadata": {},
     "output_type": "display_data"
    },
    {
     "name": "stderr",
     "output_type": "stream",
     "text": [
      "`Trainer.fit` stopped: `max_steps=100` reached.\n",
      "Restoring states from the checkpoint path at /mnt/c/Users/piotr.hondra/Documents/inz/indoor-semantic-segmentation/.lr_find_ab424815-7bfd-4247-bd3f-58a711eb802a.ckpt\n"
     ]
    }
   ],
   "source": [
    "lr_finder = trainer.tuner.lr_find(model, data_module)"
   ]
  },
  {
   "cell_type": "code",
   "execution_count": 6,
   "metadata": {},
   "outputs": [
    {
     "data": {
      "image/png": "[encoded data removed]",
      "text/plain": [
       "<Figure size 640x480 with 1 Axes>"
      ]
     },
     "metadata": {},
     "output_type": "display_data"
    }
   ],
   "source": [
    "fig = lr_finder.plot(suggest=True)\n",
    "fig.show()"
   ]
  },
  {
   "cell_type": "code",
   "execution_count": 7,
   "metadata": {},
   "outputs": [
    {
     "data": {
      "text/plain": [
       "0.0009120108393559097"
      ]
     },
     "execution_count": 7,
     "metadata": {},
     "output_type": "execute_result"
    }
   ],
   "source": [
    "lr_finder.suggestion()"
   ]
  },
  {
   "cell_type": "code",
   "execution_count": null,
   "metadata": {},
   "outputs": [],
   "source": [
    "from torchviz import make_dot\n",
    "# make_dot()"
   ]
  },
  {
   "cell_type": "code",
   "execution_count": null,
   "metadata": {},
   "outputs": [],
   "source": [
    "\n",
    "y=model(torch.rand(3,3, 480, 640))\n",
    "y[0].mean() + y[1].mean()\n"
   ]
  },
  {
   "cell_type": "code",
   "execution_count": null,
   "metadata": {},
   "outputs": [],
   "source": [
    "make_dot(y[0].mean() + y[1].mean(), params=dict(model.named_parameters()))"
   ]
  },
  {
   "cell_type": "code",
   "execution_count": null,
   "metadata": {},
   "outputs": [],
   "source": [
    "\n",
    "logger = pl.loggers.WandbLogger(\n",
    "    project=\"multitask-19.12\",\n",
    "    # name=\"baseline\",\n",
    "    log_model=True,\n",
    ")\n",
    "lr_monitor = callbacks.LearningRateMonitor(logging_interval=\"step\")\n",
    "trainer = pl.Trainer(\n",
    "    auto_lr_find=True,\n",
    "    accelerator=\"gpu\",\n",
    "    devices=1,\n",
    "    max_epochs=50,\n",
    "    # max_steps=100,\n",
    "    # val_check_interval=0.25,\n",
    "    precision=16,\n",
    "    # log_every_n_steps=5,\n",
    "    logger=logger,\n",
    "    callbacks=[lr_monitor],\n",
    "    # callbacks=[early_stopping],\n",
    "    # accumulate_grad_batches=3,\n",
    "    # overfit_batches=2,\n",
    ")\n",
    "model = LitMultitask(\n",
    "    learning_rate=1e-4, scene_weights=scene_weights, seg_weights=seg_weights\n",
    ")\n",
    "trainer.fit(\n",
    "    model=model,\n",
    "    datamodule=data_module\n",
    "    # ckpt_path=\"/home/piotr/SensorsArticle2022/logs/23.11-max_real/version_0/checkpoints/epoch=19-step=300.ckpt\",\n",
    ")\n",
    "trainer.test(model=model, datamodule=data_module, verbose=True)\n"
   ]
  },
  {
   "cell_type": "code",
   "execution_count": null,
   "metadata": {},
   "outputs": [],
   "source": [
    "import segmentation_models_pytorch as smp\n",
    "segmentator = smp.DeepLabV3(\n",
    "    encoder_weights=\"imagenet\",\n",
    "    classes=13,\n",
    ")"
   ]
  },
  {
   "cell_type": "code",
   "execution_count": null,
   "metadata": {},
   "outputs": [],
   "source": [
    "class MultitaskNet(nn.Module):\n",
    "    def __init__(self, scene_classes=7, segmentation_classes=13) -> None:\n",
    "        super().__init__()\n",
    "        segmentator = smp.DeepLabV3(\n",
    "            encoder_weights=\"imagenet\",\n",
    "            classes=segmentation_classes,\n",
    "        )\n",
    "        self.encoder = segmentator.encoder\n",
    "        self.decoder = segmentator.decoder\n",
    "        self.segmentation_head = segmentator.segmentation_head\n",
    "        num_filters = self.encoder.out_channels[-1]\n",
    "        self.classifier = nn.Sequential(\n",
    "            nn.AdaptiveAvgPool2d((1, 1)),\n",
    "            nn.Flatten(),\n",
    "            nn.BatchNorm1d(num_filters),\n",
    "            nn.Dropout(p=0.25),\n",
    "            nn.Linear(num_filters, out_features=256, bias=False),\n",
    "            nn.ReLU(inplace=True),\n",
    "            nn.BatchNorm1d(256),\n",
    "            nn.Dropout(p=0.25),\n",
    "            nn.Linear(in_features=256, out_features=scene_classes, bias=False),\n",
    "            nn.Softmax(dim=1),\n",
    "        )\n",
    "\n",
    "    def forward(self, x):\n",
    "        features = self.encoder(x)\n",
    "        scenes = self.classifier(features[-1])\n",
    "        segm = self.decoder(*features)\n",
    "        segm = self.segmentation_head(segm)\n",
    "        return segm, scenes\n",
    "\n",
    "    #     representations = self.backbone(x)\n",
    "    #     segmentation_mask = self.decoder(representations)\n",
    "    #     classification_label = self.classifier(representations)\n",
    "    #     return segmentation_mask, classification_label\n"
   ]
  },
  {
   "cell_type": "code",
   "execution_count": 1,
   "metadata": {},
   "outputs": [
    {
     "ename": "NameError",
     "evalue": "name 'MultitaskNet' is not defined",
     "output_type": "error",
     "traceback": [
      "\u001b[0;31m---------------------------------------------------------------------------\u001b[0m",
      "\u001b[0;31mNameError\u001b[0m                                 Traceback (most recent call last)",
      "Cell \u001b[0;32mIn[1], line 1\u001b[0m\n\u001b[0;32m----> 1\u001b[0m mdl \u001b[39m=\u001b[39m MultitaskNet()\n\u001b[1;32m      2\u001b[0m mdl(torch\u001b[39m.\u001b[39mrand(\u001b[39m3\u001b[39m,\u001b[39m3\u001b[39m, \u001b[39m480\u001b[39m, \u001b[39m640\u001b[39m))\n",
      "\u001b[0;31mNameError\u001b[0m: name 'MultitaskNet' is not defined"
     ]
    }
   ],
   "source": [
    "mdl = MultitaskNet()\n",
    "mdl(torch.rand(3,3, 480, 640))"
   ]
  },
  {
   "cell_type": "code",
   "execution_count": null,
   "metadata": {},
   "outputs": [],
   "source": []
  }
 ],
 "metadata": {
  "kernelspec": {
   "display_name": "sensors",
   "language": "python",
   "name": "python3"
  },
  "language_info": {
   "codemirror_mode": {
    "name": "ipython",
    "version": 3
   },
   "file_extension": ".py",
   "mimetype": "text/x-python",
   "name": "python",
   "nbconvert_exporter": "python",
   "pygments_lexer": "ipython3",
   "version": "3.10.8"
  },
  "orig_nbformat": 4,
  "vscode": {
   "interpreter": {
    "hash": "0caf5599f134aab9c3fb01cd6fb89517f32beb07825b057891043a673128ce2a"
   }
  }
 },
 "nbformat": 4,
 "nbformat_minor": 2
}
