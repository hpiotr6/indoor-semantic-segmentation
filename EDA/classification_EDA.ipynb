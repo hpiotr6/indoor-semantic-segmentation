{
 "cells": [
  {
   "cell_type": "code",
   "execution_count": 1,
   "metadata": {},
   "outputs": [],
   "source": [
    "import sys\n",
    "\n",
    "path1 = \"/home/piotr/piotr/inz/indoor-semantic-segmentation/\"\n",
    "path2 = \"/mnt/c/Users/piotr.hondra/Documents/inz/indoor-semantic-segmentation/\"\n",
    "path3 = \"/Users/piotr/Documents/studia/indoor-semantic-segmentation/\"\n",
    "path = path2\n",
    "sys.path.append(path)\n"
   ]
  },
  {
   "cell_type": "code",
   "execution_count": 2,
   "metadata": {},
   "outputs": [],
   "source": [
    "import seaborn as sns\n",
    "from src import multitask_datamod, constants\n",
    "from src.constants import class_names\n",
    "from matplotlib import pyplot as plt\n",
    "import numpy as np\n",
    "import pandas as pd\n",
    "\n",
    "from tqdm import tqdm"
   ]
  },
  {
   "cell_type": "code",
   "execution_count": null,
   "metadata": {},
   "outputs": [],
   "source": [
    "dm = multitask_datamod.ClassificationDataModule(path, transforms = None)\n",
    "dm.setup(\"fit\")\n",
    "train = dm.train_set\n",
    "test = dm.test_set"
   ]
  },
  {
   "cell_type": "code",
   "execution_count": null,
   "metadata": {},
   "outputs": [],
   "source": [
    "plt.imshow(train[0][0]/255)"
   ]
  },
  {
   "cell_type": "code",
   "execution_count": null,
   "metadata": {},
   "outputs": [],
   "source": [
    "np.unique(train[0][1], return_counts=True)"
   ]
  },
  {
   "cell_type": "code",
   "execution_count": null,
   "metadata": {},
   "outputs": [],
   "source": [
    "class_names.MERGED_SCENES_IDS"
   ]
  },
  {
   "cell_type": "code",
   "execution_count": null,
   "metadata": {},
   "outputs": [],
   "source": [
    "from tqdm import tqdm\n",
    "\n",
    "def get_df(dm_set):\n",
    "    a = np.zeros((len(dm_set),7))\n",
    "    for idx, (img,mask) in tqdm(enumerate(dm_set), total=len(dm_set)):\n",
    "        indices, vals = np.unique(mask, return_counts=True)\n",
    "    # list(map(int,indices.tolist()))\n",
    "        indices.astype(int)\n",
    "    # indices[indices==255] = 40\n",
    "        indices = indices.astype(np.uint8)\n",
    "        a[idx,indices] = vals\n",
    "\n",
    "    df = pd.DataFrame(a, columns=class_names.MERGED_SCENES_IDS.values())\n",
    "    df.sum(axis=0).values\n",
    "    return df\n",
    "\n",
    "test_df = get_df(test)\n",
    "    # ap[]\n",
    "#     for idx in indices\n",
    "#     break\n",
    "\n"
   ]
  },
  {
   "cell_type": "code",
   "execution_count": null,
   "metadata": {},
   "outputs": [],
   "source": [
    "\n",
    "# columns = [str(i) for i in range(41)]\n",
    "# columns[40] = \"255\"\n",
    "# df = pd.DataFrame(a, columns=constants.MERGED_SCENES_IDS.values())\n",
    "# df.sum(axis=0).values\n",
    "# test_df.sum(axis=0).values\n",
    "classes = [test[i][1].item() for i in range(len(test))]"
   ]
  },
  {
   "cell_type": "code",
   "execution_count": null,
   "metadata": {},
   "outputs": [],
   "source": [
    "test_classes = pd.concat(\n",
    "[pd.read_csv(\"/mnt/c/Users/piotr.hondra/Documents/inz/indoor-semantic-segmentation/datasets/test.txt\", header=None, dtype=\"str\"),\n",
    "pd.DataFrame(classes)],axis=1)"
   ]
  },
  {
   "cell_type": "code",
   "execution_count": null,
   "metadata": {},
   "outputs": [],
   "source": [
    "from sklearn import model_selection\n",
    "X = test_classes.values[:,0]\n",
    "y = test_classes.values[:,1]\n",
    "filenames_val, filenames_test, val_labels, test_labels = model_selection.train_test_split(X,y, stratify=y, test_size=0.8)"
   ]
  },
  {
   "cell_type": "code",
   "execution_count": null,
   "metadata": {},
   "outputs": [],
   "source": [
    "# plt.hist(val_labels)\n",
    "# np.value val_labels\n",
    "indices, vals = np.unique(test_labels, return_counts=True)\n",
    "plt.subplot(121)\n",
    "plt.hist(val_labels)\n",
    "plt.subplot(122)\n",
    "plt.hist(test_labels)"
   ]
  },
  {
   "cell_type": "code",
   "execution_count": null,
   "metadata": {},
   "outputs": [],
   "source": [
    "# with open(\"/mnt/c/Users/piotr.hondra/Documents/inz/indoor-semantic-segmentation/datasets/train_val_test/test.txt\", 'w') as f:\n",
    "#     for line in filenames_test.tolist():\n",
    "#         f.write(line+\"\\n\")"
   ]
  },
  {
   "cell_type": "code",
   "execution_count": null,
   "metadata": {},
   "outputs": [],
   "source": [
    "sns.set_theme()\n",
    "ax = sns.barplot(df.sum(axis=0).reset_index(), x=0, y=\"index\", color=\"green\", log=False)\n",
    "# for i in ax.containers:\n",
    "#     ax.bar_label(i,)"
   ]
  },
  {
   "cell_type": "code",
   "execution_count": null,
   "metadata": {},
   "outputs": [],
   "source": [
    "with open(\"/mnt/c/Users/piotr.hondra/Documents/inz/indoor-semantic-segmentation/datasets/train_val_test/test.txt\", \"r\") as f:\n",
    "    lines = f.readlines()"
   ]
  },
  {
   "cell_type": "code",
   "execution_count": null,
   "metadata": {},
   "outputs": [],
   "source": [
    "filenames_df = pd.read_csv(\"/mnt/c/Users/piotr.hondra/Documents/inz/indoor-semantic-segmentation/datasets/train_val_test/test.txt\", header=None, dtype=\"str\")"
   ]
  },
  {
   "cell_type": "code",
   "execution_count": null,
   "metadata": {},
   "outputs": [],
   "source": [
    "[f\"{item.item()}.txt\"\n",
    "for item in filenames_df.values]\n",
    "len(filenames_df)"
   ]
  },
  {
   "cell_type": "code",
   "execution_count": 4,
   "metadata": {},
   "outputs": [],
   "source": [
    "from src.dataset import NYUv2SplitDataset\n",
    "ds = NYUv2SplitDataset(root=\"/mnt/c/Users/piotr.hondra/Documents/inz/indoor-semantic-segmentation/datasets/train\", filenames_file=\"/mnt/c/Users/piotr.hondra/Documents/inz/indoor-semantic-segmentation/datasets/train_val_test/train.txt\")"
   ]
  },
  {
   "cell_type": "code",
   "execution_count": 7,
   "metadata": {},
   "outputs": [
    {
     "data": {
      "text/plain": [
       "5"
      ]
     },
     "execution_count": 7,
     "metadata": {},
     "output_type": "execute_result"
    }
   ],
   "source": [
    "ds[0][2]"
   ]
  },
  {
   "cell_type": "code",
   "execution_count": null,
   "metadata": {},
   "outputs": [],
   "source": []
  }
 ],
 "metadata": {
  "kernelspec": {
   "display_name": "sensors",
   "language": "python",
   "name": "python3"
  },
  "language_info": {
   "codemirror_mode": {
    "name": "ipython",
    "version": 3
   },
   "file_extension": ".py",
   "mimetype": "text/x-python",
   "name": "python",
   "nbconvert_exporter": "python",
   "pygments_lexer": "ipython3",
   "version": "3.10.8 (main, Nov 24 2022, 14:13:03) [GCC 11.2.0]"
  },
  "orig_nbformat": 4,
  "vscode": {
   "interpreter": {
    "hash": "0caf5599f134aab9c3fb01cd6fb89517f32beb07825b057891043a673128ce2a"
   }
  }
 },
 "nbformat": 4,
 "nbformat_minor": 2
}
