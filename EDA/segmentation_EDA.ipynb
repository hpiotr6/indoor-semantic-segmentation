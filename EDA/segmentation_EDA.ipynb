{
 "cells": [
  {
   "cell_type": "code",
   "execution_count": 1,
   "metadata": {},
   "outputs": [],
   "source": [
    "import sys\n",
    "path1 = \"/home/piotr/piotr/inz/indoor-semantic-segmentation\"\n",
    "path2 = \"/mnt/c/Users/piotr.hondra/Documents/inz/indoor-semantic-segmentation/\"\n",
    "path = path2\n",
    "sys.path.append(path)"
   ]
  },
  {
   "cell_type": "code",
   "execution_count": 2,
   "metadata": {},
   "outputs": [
    {
     "name": "stderr",
     "output_type": "stream",
     "text": [
      "/home/phondra/miniconda3/envs/sensors/lib/python3.10/site-packages/tqdm/auto.py:22: TqdmWarning: IProgress not found. Please update jupyter and ipywidgets. See https://ipywidgets.readthedocs.io/en/stable/user_install.html\n",
      "  from .autonotebook import tqdm as notebook_tqdm\n"
     ]
    }
   ],
   "source": [
    "import seaborn as sns\n",
    "from src import multitask_datamod, constants\n",
    "from matplotlib import pyplot as plt\n",
    "import numpy as np\n",
    "import pandas as pd\n",
    "\n",
    "from tqdm import tqdm"
   ]
  },
  {
   "cell_type": "code",
   "execution_count": 6,
   "metadata": {},
   "outputs": [
    {
     "ename": "NameError",
     "evalue": "name 'path' is not defined",
     "output_type": "error",
     "traceback": [
      "\u001b[0;31m---------------------------------------------------------------------------\u001b[0m",
      "\u001b[0;31mNameError\u001b[0m                                 Traceback (most recent call last)",
      "Cell \u001b[0;32mIn[6], line 1\u001b[0m\n\u001b[0;32m----> 1\u001b[0m dm \u001b[39m=\u001b[39m multitask_datamod\u001b[39m.\u001b[39mSegmentationDataModule(path,transforms\u001b[39m=\u001b[39m\u001b[39mNone\u001b[39;00m, num_classes\u001b[39m=\u001b[39m\u001b[39m13\u001b[39m)\n\u001b[1;32m      2\u001b[0m dm\u001b[39m.\u001b[39msetup(\u001b[39m\"\u001b[39m\u001b[39mfit\u001b[39m\u001b[39m\"\u001b[39m)\n\u001b[1;32m      3\u001b[0m train \u001b[39m=\u001b[39m dm\u001b[39m.\u001b[39mtrain_set\n",
      "\u001b[0;31mNameError\u001b[0m: name 'path' is not defined"
     ]
    }
   ],
   "source": [
    "dm = multitask_datamod.SegmentationDataModule(path,transforms=None, num_classes=13)\n",
    "dm.setup(\"fit\")\n",
    "train = dm.train_set"
   ]
  },
  {
   "cell_type": "code",
   "execution_count": null,
   "metadata": {},
   "outputs": [],
   "source": [
    "plt.imshow(train[0][0]/255)"
   ]
  },
  {
   "cell_type": "code",
   "execution_count": null,
   "metadata": {},
   "outputs": [],
   "source": [
    "np.unique(train[0][1], return_counts=True)"
   ]
  },
  {
   "cell_type": "code",
   "execution_count": null,
   "metadata": {},
   "outputs": [],
   "source": [
    "# d = {k:0 for k in range(40)}\n",
    "from tqdm import tqdm\n",
    "\n",
    "\n",
    "a = np.zeros((len(train),41))\n",
    "for idx, (img,mask) in tqdm(enumerate(train), total=len(train)):\n",
    "    indices, vals = np.unique(mask, return_counts=True)\n",
    "    # list(map(int,indices.tolist()))\n",
    "    indices.astype(int)\n",
    "    indices[indices==255] = 40\n",
    "    indices = indices.astype(np.uint8)\n",
    "    a[idx,indices] = vals\n",
    "    # ap[]\n",
    "#     for idx in indices\n",
    "#     break\n",
    "\n"
   ]
  },
  {
   "cell_type": "code",
   "execution_count": null,
   "metadata": {},
   "outputs": [],
   "source": [
    "\n",
    "# columns = [str(i) for i in range(41)]\n",
    "# columns[40] = \"255\"\n",
    "df = pd.DataFrame(a, columns=constants.NYU_V2_segmentation_classes+[\"void\"])\n",
    "df.sum(axis=0).reset_index()"
   ]
  },
  {
   "cell_type": "code",
   "execution_count": null,
   "metadata": {},
   "outputs": [],
   "source": [
    "sns.set_theme()\n",
    "ax = sns.barplot(df.sum(axis=0).reset_index(), x=0, y=\"index\", color=\"green\", log=True)\n",
    "# for i in ax.containers:\n",
    "#     ax.bar_label(i,)"
   ]
  },
  {
   "cell_type": "code",
   "execution_count": null,
   "metadata": {},
   "outputs": [],
   "source": [
    "plt.imshow(train[0][1])"
   ]
  },
  {
   "cell_type": "code",
   "execution_count": 13,
   "metadata": {},
   "outputs": [
    {
     "name": "stderr",
     "output_type": "stream",
     "text": [
      "100%|██████████| 795/795 [00:19<00:00, 41.84it/s]\n"
     ]
    }
   ],
   "source": [
    "# d = {k:0 for k in range(40)}\n",
    "num_classes=13 \n",
    "dm = multitask_datamod.SegmentationDataModule(path,transforms=None, num_classes=num_classes)\n",
    "dm.setup(\"fit\")\n",
    "train = dm.train_set\n",
    "uniqs = set()\n",
    "for idx, (img,mask) in tqdm(enumerate(train), total=len(train)):\n",
    "    indices, vals = np.unique(mask, return_counts=True)\n",
    "    uniqs.update(indices.tolist())\n",
    "    # print(indices)\n",
    "    # np.hstack(indices)\n",
    "    # break\n",
    "# a = np.zeros((len(train),num_classes+1))\n",
    "# for idx, (img,mask) in tqdm(enumerate(train), total=len(train)):\n",
    "#     # list(map(int,indices.tolist()))\n",
    "#     indices.astype(int)\n",
    "#     indices[indices==255] = num_classes\n",
    "#     indices = indices.astype(np.uint8)\n",
    "#     a[idx,indices] = vals\n",
    "#     # ap[]\n",
    "# #     for idx in indices\n",
    "# #     break\n",
    "\n"
   ]
  },
  {
   "cell_type": "code",
   "execution_count": 14,
   "metadata": {},
   "outputs": [
    {
     "data": {
      "text/plain": [
       "{0.0, 1.0, 2.0, 3.0, 4.0, 5.0, 6.0, 7.0, 8.0, 9.0, 10.0, 11.0, 12.0, 255.0}"
      ]
     },
     "execution_count": 14,
     "metadata": {},
     "output_type": "execute_result"
    }
   ],
   "source": [
    "uniqs"
   ]
  },
  {
   "cell_type": "code",
   "execution_count": 19,
   "metadata": {},
   "outputs": [
    {
     "data": {
      "text/plain": [
       "array([11611728,  8578042,  1308322,  3535427,  8258474, 23949931,\n",
       "       35664840, 31453241,  4864604,  5747842,  7347520,  1349733,\n",
       "       57555778, 42998518])"
      ]
     },
     "execution_count": 19,
     "metadata": {},
     "output_type": "execute_result"
    }
   ],
   "source": [
    "df = pd.DataFrame(a, columns=constants.NYU_V2_segmentation_13classes+[\"void\"])\n",
    "df.sum(axis=0).reset_index()\n",
    "df.sum(axis=0).values.astype(int)"
   ]
  },
  {
   "cell_type": "code",
   "execution_count": 11,
   "metadata": {},
   "outputs": [
    {
     "data": {
      "image/png": "[encoded data removed]",
      "text/plain": [
       "<Figure size 640x480 with 1 Axes>"
      ]
     },
     "metadata": {},
     "output_type": "display_data"
    }
   ],
   "source": [
    "sns.set_theme()\n",
    "ax = sns.barplot(df.sum(axis=0).reset_index(), x=0, y=\"index\", color=\"green\", log=True)\n",
    "# for i in ax.containers:\n",
    "#     ax.bar_label(i,)"
   ]
  },
  {
   "cell_type": "code",
   "execution_count": null,
   "metadata": {},
   "outputs": [],
   "source": []
  }
 ],
 "metadata": {
  "kernelspec": {
   "display_name": "sensors",
   "language": "python",
   "name": "python3"
  },
  "language_info": {
   "codemirror_mode": {
    "name": "ipython",
    "version": 3
   },
   "file_extension": ".py",
   "mimetype": "text/x-python",
   "name": "python",
   "nbconvert_exporter": "python",
   "pygments_lexer": "ipython3",
   "version": "3.10.8 (main, Nov 24 2022, 14:13:03) [GCC 11.2.0]"
  },
  "orig_nbformat": 4,
  "vscode": {
   "interpreter": {
    "hash": "0caf5599f134aab9c3fb01cd6fb89517f32beb07825b057891043a673128ce2a"
   }
  }
 },
 "nbformat": 4,
 "nbformat_minor": 2
}
